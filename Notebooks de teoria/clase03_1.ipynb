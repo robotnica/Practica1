{
 "cells": [
  {
   "cell_type": "markdown",
   "id": "breathing-productivity",
   "metadata": {
    "slideshow": {
     "slide_type": "slide"
    }
   },
   "source": [
    "### Seminario de Lenguajes - Python\n",
    "## Cursada 2022\n",
    "### Módulos en Python "
   ]
  },
  {
   "cell_type": "markdown",
   "id": "extended-addiction",
   "metadata": {
    "slideshow": {
     "slide_type": "slide"
    }
   },
   "source": [
    "# Un módulo es un archivo (con extensión .py)  que contiene sentencias y definiciones."
   ]
  },
  {
   "cell_type": "markdown",
   "id": "processed-canada",
   "metadata": {
    "slideshow": {
     "slide_type": "fragment"
    }
   },
   "source": [
    "## ¿Algo nuevo? \n",
    "<img src=\"imagenes/modulos.png\" alt=\"Actividad inicial\" style=\"width:850px;\"/>\n"
   ]
  },
  {
   "cell_type": "markdown",
   "id": "usual-welsh",
   "metadata": {
    "slideshow": {
     "slide_type": "subslide"
    }
   },
   "source": [
    "#  Analicemos un ejemplo en el IDE\n",
    "\n",
    "- ¿Cuántos archivos forman mi programa?\n",
    "- ¿Cómo se relacionan?\n",
    "<img src=\"imagenes/sentencia_import.png\" alt=\"Actividad inicial\" style=\"width:750px;\"/>\n"
   ]
  },
  {
   "cell_type": "markdown",
   "id": "facial-somerset",
   "metadata": {
    "slideshow": {
     "slide_type": "subslide"
    }
   },
   "source": [
    "# La sentencia import\n",
    "\n",
    "- Permite acceder a funciones y variables definidas en otro módulo."
   ]
  },
  {
   "cell_type": "code",
   "execution_count": null,
   "id": "superb-crown",
   "metadata": {
    "slideshow": {
     "slide_type": "fragment"
    }
   },
   "outputs": [],
   "source": [
    "import random"
   ]
  },
  {
   "cell_type": "markdown",
   "id": "convertible-registrar",
   "metadata": {
    "slideshow": {
     "slide_type": "fragment"
    }
   },
   "source": [
    "- Sólo se importa las definiciones de las funciones. No las ejecuta.\n",
    "- Para ejecutar una función **debo invocarla en forma explícita**."
   ]
  },
  {
   "cell_type": "code",
   "execution_count": 2,
   "id": "substantial-penalty",
   "metadata": {
    "slideshow": {
     "slide_type": "fragment"
    }
   },
   "outputs": [
    {
     "ename": "NameError",
     "evalue": "name 'random' is not defined",
     "output_type": "error",
     "traceback": [
      "\u001b[1;31m---------------------------------------------------------------------------\u001b[0m",
      "\u001b[1;31mNameError\u001b[0m                                 Traceback (most recent call last)",
      "Input \u001b[1;32mIn [2]\u001b[0m, in \u001b[0;36m<cell line: 1>\u001b[1;34m()\u001b[0m\n\u001b[1;32m----> 1\u001b[0m \u001b[43mrandom\u001b[49m\u001b[38;5;241m.\u001b[39mrandrange(\u001b[38;5;241m10\u001b[39m)\n",
      "\u001b[1;31mNameError\u001b[0m: name 'random' is not defined"
     ]
    }
   ],
   "source": [
    "random.randrange(10)"
   ]
  },
  {
   "cell_type": "markdown",
   "id": "stunning-coverage",
   "metadata": {
    "slideshow": {
     "slide_type": "fragment"
    }
   },
   "source": [
    "- ¿Qué son los archivos .pyc?\n",
    "- [+Info en el sitio oficial](https://docs.python.org/es/3/tutorial/modules.html#compiled-python-files)\n",
    "- O podemos leer la [PEP 3147](https://www.python.org/dev/peps/pep-3147/)"
   ]
  },
  {
   "cell_type": "markdown",
   "id": "combined-michael",
   "metadata": {
    "slideshow": {
     "slide_type": "slide"
    }
   },
   "source": [
    "# Espacios de nombres\n",
    "\n",
    "- Un espacio de nombres **relaciona nombres con objetos**.\n",
    "- En principio podemos pensar en tres espacios de nombres:\n",
    "\n",
    "\t* Locales\n",
    "\t* Globales\n",
    "\t* \\_\\_builtins__\n",
    "\n",
    "-  Los espacios de nombres **se crean en diferentes momentos y tienen distintos tiempos de vida**.\n",
    "-  El espacio de nombres que contiene los nombres **\\_\\_builtins__** se crea al iniciar el intérprete y nunca se elimina.\n",
    "- El espacio de nombres **global** de un módulo se crea cuando se lee la definición de un módulo y normalmente también dura hasta que el intérprete finaliza. \n",
    "- El espacio de nombres **local** a una función se crea cuando la función es llamada y se elimina cuando la función retorna. \n"
   ]
  },
  {
   "cell_type": "markdown",
   "id": "assumed-newport",
   "metadata": {
    "slideshow": {
     "slide_type": "subslide"
    }
   },
   "source": [
    "# Espacios de nombres y módulos\n",
    "\n",
    "* Cada módulo tiene su propio espacio de nombres.\n",
    "\n",
    "```python\n",
    "\t#funciones\n",
    "\tvar_x = 10\n",
    "    def print_var_x():\n",
    "        print(var_x)\n",
    "\t\n",
    "\t#uso_funciones\t\n",
    "\timport funciones\n",
    "\n",
    "\tvar_x = 20\n",
    "    funciones.print_var_x()\n",
    "```\n",
    "\n",
    "* Entonces, ¿qué valor imprime este código?"
   ]
  },
  {
   "cell_type": "markdown",
   "id": "continued-success",
   "metadata": {
    "slideshow": {
     "slide_type": "subslide"
    }
   },
   "source": [
    "# Volvemos al import\n",
    "\n",
    "* Cuando usamos la sentencia **import** se actualizan los espacios de nombres.\n",
    "\n",
    "```python\n",
    "\timport mi_modulo\n",
    "```\n",
    "\n",
    "* En este caso, todos los ítems definidos dentro de **mi_modulo** serán locales a **mi_modulo**.\n",
    "* Lo que se agrega al espacio de nombres es el nombre del módulo (**mi_modulo**).\n",
    "* Para usarlo debo hacerlo con notación puntual.\n",
    "```python\n",
    "\timport mi_modulo as m\n",
    "```\n",
    "* ¿Y acá?¿Qué nombre se agrega al espacio de nombres?"
   ]
  },
  {
   "cell_type": "markdown",
   "id": "chicken-hobby",
   "metadata": {
    "slideshow": {
     "slide_type": "subslide"
    }
   },
   "source": [
    "# Importando módulos\n",
    "\n",
    "```python\n",
    "\timport funciones\n",
    "\n",
    "\tfunciones.uno()\n",
    "```\n",
    "- La importación se realización **sólo una vez por sesión del intérprete**.\n",
    "- Veamos sobre el ejemplo anterior."
   ]
  },
  {
   "cell_type": "markdown",
   "id": "revolutionary-involvement",
   "metadata": {
    "slideshow": {
     "slide_type": "fragment"
    }
   },
   "source": [
    "- Si necesito volver a importar: usar **reload()** incluido en el **módulo importlib**.\n",
    "\n",
    "```python\n",
    "\timport importlib\n",
    "\timportlib.reload(funciones)\n",
    "```\n",
    "- [+Info en la documentación oficial](https://docs.python.org/3/library/importlib.html#module-importlib)\n"
   ]
  },
  {
   "cell_type": "markdown",
   "id": "constitutional-apollo",
   "metadata": {
    "slideshow": {
     "slide_type": "subslide"
    }
   },
   "source": [
    "# Otra forma de importar\n",
    "\n",
    "```python\n",
    "\tfrom mi_modulo import una_funcion\n",
    "```\n",
    "* Sólo se importa **una_funcion** de **mi_modulo** (no el nombre del módulo).\n",
    "* El único nombre que se agrega al espacio de nombres es **una_funcion**.\n",
    "\n",
    "```python\n",
    "\tfrom mi_modulo import *\n",
    "```\n",
    "\n",
    "* En este caso, **todos los ítems** definidos en **mi_modulo** formarán parte del espacio de nombres actual.\n",
    "* **Esta forma no está recomendada**: podrían existir conflictos de nombres.\n"
   ]
  },
  {
   "cell_type": "markdown",
   "id": "major-trust",
   "metadata": {
    "slideshow": {
     "slide_type": "subslide"
    }
   },
   "source": [
    "### Veamos qué pasa cuando queremos importar un módulo que no existe:"
   ]
  },
  {
   "cell_type": "code",
   "execution_count": null,
   "id": "pointed-provincial",
   "metadata": {
    "slideshow": {
     "slide_type": "fragment"
    }
   },
   "outputs": [],
   "source": [
    "import pp"
   ]
  },
  {
   "cell_type": "markdown",
   "id": "embedded-madness",
   "metadata": {
    "slideshow": {
     "slide_type": "fragment"
    }
   },
   "source": [
    "### ¿Dónde se busca los módulos?\n",
    "\n",
    "- Directorio actual + otros directorios definidos en la variable de ambiente PYTHONPATH"
   ]
  },
  {
   "cell_type": "code",
   "execution_count": null,
   "id": "forward-preservation",
   "metadata": {
    "slideshow": {
     "slide_type": "fragment"
    }
   },
   "outputs": [],
   "source": [
    "import sys\n",
    "sys.path"
   ]
  },
  {
   "cell_type": "markdown",
   "id": "under-palestinian",
   "metadata": {
    "slideshow": {
     "slide_type": "slide"
    }
   },
   "source": [
    "# Biblioteca de módulos estándar\n",
    "- Existe un conjunto de módulos que vienen incluidos con el intérprete.\n",
    "- Para usarlos se los debe importar en forma explícita (usando **sentencia import**).\n",
    "- Ya usamos algunos, ¿cuáles?\n"
   ]
  },
  {
   "cell_type": "markdown",
   "id": "studied-sucking",
   "metadata": {
    "slideshow": {
     "slide_type": "fragment"
    }
   },
   "source": [
    "- random, sys, string"
   ]
  },
  {
   "cell_type": "markdown",
   "id": "renewable-kernel",
   "metadata": {
    "slideshow": {
     "slide_type": "fragment"
    }
   },
   "source": [
    "- Hay muchos otros que nos ofrecen distinta funcionalidad:\n",
    "    - Ejemplos: **math**, **random**, **time**, **sys**, **collections**, etc.\n"
   ]
  },
  {
   "cell_type": "code",
   "execution_count": null,
   "id": "global-moscow",
   "metadata": {
    "slideshow": {
     "slide_type": "fragment"
    }
   },
   "outputs": [],
   "source": [
    "import math\n",
    "import random\n",
    "\n",
    "print(math.gcd(12,16))\n",
    "print(math.sqrt(81))\n",
    "print(math.pi)\n",
    "\n",
    "lista = [1, 2, 3, 4]\n",
    "print(random.choice(lista))"
   ]
  },
  {
   "cell_type": "markdown",
   "id": "differential-merchandise",
   "metadata": {
    "slideshow": {
     "slide_type": "subslide"
    }
   },
   "source": [
    "\n",
    "# El módulo collections\n",
    "\n",
    "\n",
    "- Define tipos de datos alternativos a los predefinidos dict, list, set, y tuple.\n",
    "- **Counter**: es una colección desordenada de pares claves-valor, donde las claves son los elementos de la colección y los valores son la cantidad de ocurrencias de los mismos."
   ]
  },
  {
   "cell_type": "code",
   "execution_count": null,
   "id": "southern-retrieval",
   "metadata": {
    "slideshow": {
     "slide_type": "fragment"
    }
   },
   "outputs": [],
   "source": [
    "from collections import Counter\n",
    "cnt = Counter(['red', 'blue', 'red', 'green', 'blue', 'blue'])\n",
    "print(cnt)"
   ]
  },
  {
   "cell_type": "code",
   "execution_count": null,
   "id": "fantastic-bradford",
   "metadata": {
    "slideshow": {
     "slide_type": "fragment"
    }
   },
   "outputs": [],
   "source": [
    "print(Counter('abracadabra').most_common(1))"
   ]
  },
  {
   "cell_type": "markdown",
   "id": "accompanied-registrar",
   "metadata": {
    "slideshow": {
     "slide_type": "subslide"
    }
   },
   "source": [
    "# Para probar luego\n",
    "\n",
    "- El módulo: **deque** (“double-ended queue”)\n",
    "    - Permite implementar pilas y colas."
   ]
  },
  {
   "cell_type": "code",
   "execution_count": null,
   "id": "innocent-district",
   "metadata": {
    "slideshow": {
     "slide_type": "fragment"
    }
   },
   "outputs": [],
   "source": [
    "from collections import deque\n",
    "d = deque('abcd')\n",
    "# agrega al final\n",
    "d.append(\"final\")   \n",
    "# agrega al principio\n",
    "d.appendleft(\"ppio\")\n",
    "# eliminar último\n",
    "elem = d.pop()\n",
    "# elimina primero\n",
    "elem1=d.popleft()   \n",
    "d"
   ]
  },
  {
   "cell_type": "markdown",
   "id": "convenient-trick",
   "metadata": {
    "slideshow": {
     "slide_type": "subslide"
    }
   },
   "source": [
    "# El módulo sys\n",
    "\n",
    "\n",
    "* Entre otras cosas, define:\n",
    "\n",
    "\t* **exit([arg]):** sale del programa actual;\n",
    "\t* **path:** las rutas donde buscar los módulos a cargar;\n",
    "\t* **platform:** contiene información sobre la plataforma.\n",
    "\n",
    "----"
   ]
  },
  {
   "cell_type": "code",
   "execution_count": null,
   "id": "electoral-daily",
   "metadata": {
    "slideshow": {
     "slide_type": "fragment"
    }
   },
   "outputs": [],
   "source": [
    "import sys\n",
    "#sys.path\n",
    "sys.platform"
   ]
  },
  {
   "cell_type": "markdown",
   "id": "parallel-julian",
   "metadata": {
    "slideshow": {
     "slide_type": "subslide"
    }
   },
   "source": [
    "#  Los nombres de los módulos\n",
    "\n",
    "- Es posible acceder al  nombre de un módulo a través de **\\_\\_name__**\n"
   ]
  },
  {
   "cell_type": "code",
   "execution_count": null,
   "id": "purple-mouse",
   "metadata": {
    "slideshow": {
     "slide_type": "fragment"
    }
   },
   "outputs": [],
   "source": [
    "print(__name__)"
   ]
  },
  {
   "cell_type": "markdown",
   "id": "configured-seven",
   "metadata": {
    "slideshow": {
     "slide_type": "subslide"
    }
   },
   "source": [
    "# Tarea\n",
    "\n",
    "- Averiguar cuándo un módulo se denomina **\\_\\_main__**,"
   ]
  },
  {
   "cell_type": "markdown",
   "id": "italic-theater",
   "metadata": {
    "slideshow": {
     "slide_type": "slide"
    }
   },
   "source": [
    "<img src=\"imagenes/portada_video.png\" alt=\"nos vemos el martes\" style=\"width:1050px;\"/>"
   ]
  }
 ],
 "metadata": {
  "celltoolbar": "Slideshow",
  "kernelspec": {
   "display_name": "Python 3 (ipykernel)",
   "language": "python",
   "name": "python3"
  },
  "language_info": {
   "codemirror_mode": {
    "name": "ipython",
    "version": 3
   },
   "file_extension": ".py",
   "mimetype": "text/x-python",
   "name": "python",
   "nbconvert_exporter": "python",
   "pygments_lexer": "ipython3",
   "version": "3.10.0"
  }
 },
 "nbformat": 4,
 "nbformat_minor": 5
}
