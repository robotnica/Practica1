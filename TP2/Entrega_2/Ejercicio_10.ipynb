{
 "cells": [
  {
   "cell_type": "markdown",
   "id": "d0b01651",
   "metadata": {},
   "source": [
    "# Ejercicio 10\n",
    "\n",
    "Enunciado:\n",
    "Trabajando con los contenidos de los archivos que pueden acceder en el curso:\n",
    "• nombres\n",
    "• eval1\n",
    "• eval2\n",
    "Manipule estos archivos para realizar lo siguiente:\n",
    "• Generar una estructura con los nombres de los estudiantes y la suma de ambas notas.\n",
    "• Calcular el promedio de las notas totales e informar que alumnos obtuvieron menos que el\n",
    "promedio.\n"
   ]
  },
  {
   "cell_type": "markdown",
   "id": "12930a63",
   "metadata": {},
   "source": [
    "Primero abro los archivos de texto en modo lectura y guardo sus contenidos en sendas variables (de tipo string)"
   ]
  },
  {
   "cell_type": "code",
   "execution_count": 28,
   "id": "6c4fd7b3",
   "metadata": {},
   "outputs": [],
   "source": [
    "with open('nombres_1.txt','r',encoding = 'utf-8') as file_names:\n",
    "    names = file_names.read()\n",
    "with open('eval1.txt','r',encoding = 'utf-8') as file_1st_marks:\n",
    "    marks1 = file_1st_marks.read()\n",
    "with open('eval2.txt','r',encoding = 'utf-8') as file_2nd_marks:\n",
    "    marks2 = file_2nd_marks.read()"
   ]
  },
  {
   "cell_type": "markdown",
   "id": "7819d867",
   "metadata": {},
   "source": [
    "A partir de dichas variables string, genero listas con los nombres y las notas mediante una funcion **make_list**. Notese que en los archivos 'originales', los nombres y notas estaban acomodados en renglones y encerrados entre comillas, asi que aprovecho para removerlos ahora usando la sentencia replace"
   ]
  },
  {
   "cell_type": "code",
   "execution_count": null,
   "id": "42312524",
   "metadata": {},
   "outputs": [],
   "source": [
    "def make_list(my_string):\n",
    "    \"\"\" Transforma el string que recibe en una lista, sin saltos de linea ni comillas \"\"\"\n",
    "    return my_string.replace('\\n','').replace(\"\\'\",'').split(',')\n",
    "\n",
    "names = make_list(names)\n",
    "marks1 = make_list(marks1)\n",
    "marks2 = make_list(marks2)"
   ]
  },
  {
   "cell_type": "markdown",
   "id": "8f75da5a",
   "metadata": {},
   "source": [
    "Para almacenar la informacion de los estudiantes y la suma de sus notas, utilizo como estructura una lista de tuplas, que estara almacenada en la variable **students**.\n",
    "Obtendremos una estructura de la forma: [(nombre_alumno,suma_de_notas), (nombre_otro_alumno,suma_de_notas)....]\n",
    "De eso se encarga la funcion make_list_of_students, a la cual le paso como parametros la lista de nombres y las listas con las notas. Internamente, esta funcion:\n",
    "• crea una lista vacia\n",
    "• recorre la lista de nombres con un for, y en cada iteracion:\n",
    "    • calcula y guarda la suma de las notas de un alumno\n",
    "    • crea un objeto tupla (con el nombre del alumno y dicha suma) \n",
    "    • y lo agrega a la lista **students**\n",
    "• finalmente devuelve **students**"
   ]
  },
  {
   "cell_type": "code",
   "execution_count": null,
   "id": "d7a82a8b",
   "metadata": {},
   "outputs": [],
   "source": [
    "def make_list_of_students(names,marks1,marks2):\n",
    "    \"\"\"Genera una lista de tuplas. Cada tupla contiene (nombre del alumno, suma de notas)\n",
    "    \"\"\"\n",
    "    students=[]\n",
    "    for index in range(len(names)):\n",
    "        sum_of_grades = int(marks1[index]) + int(marks2[index])\n",
    "        student = (names[index],sum_of_grades)\n",
    "        students.append(student)\n",
    "        \n",
    "    \n",
    "    return students\n",
    "\n",
    "students = make_list_of_students(names,marks1,marks2)"
   ]
  },
  {
   "cell_type": "markdown",
   "id": "ac2d5d2b",
   "metadata": {},
   "source": [
    "A continuacion, utilizando la funcion **compute_average()** calculo el promedio de las sumas de las notas de los estudiantes. "
   ]
  },
  {
   "cell_type": "code",
   "execution_count": null,
   "id": "45fe70e8",
   "metadata": {},
   "outputs": [],
   "source": [
    "def compute_average(students):\n",
    "    \"\"\" Calcula la nota total promedio de los estudiantes recibidos por parametro \"\"\"\n",
    "    \n",
    "    total_sum = 0\n",
    "    total_of_students = len(students)\n",
    "    for student in students:\n",
    "        total_sum += int(student[1])\n",
    "    \n",
    "    average = total_sum / total_of_students\n",
    "    \n",
    "    return average\n",
    "\n",
    "average_mark = compute_average(students)"
   ]
  },
  {
   "cell_type": "markdown",
   "id": "f1cba850",
   "metadata": {},
   "source": [
    "Finalmente, utilizando la funcion **inform_below_average()** voy recorriendo la lista de estudiantes (usando un for), y en cada iteracion comparo la nota total con la nota total promedio que calculé antes. En caso de que la nota sea menor al promedio, guardo ese nombre en una variable lista local llamada **below_average**. Una vez que recorrí toda la lista de estudiantes, simplemente recorro e imprimo **below_average**"
   ]
  },
  {
   "cell_type": "code",
   "execution_count": 2,
   "id": "546a7088",
   "metadata": {},
   "outputs": [],
   "source": [
    "def inform_below_average(students,average_mark):\n",
    "    \"\"\" Recorre la lista de (estudiantes,notas) y se va guardando, localmente, una lista con nombres \n",
    "    de los estudiantes cuyas notas estan por debajo del promedio ingresado por parametro.\n",
    "    Finalmente imprime en pantalla tal lista de nombres\n",
    "    \"\"\"\n",
    "    \n",
    "    below_average=[]\n",
    "    for (name,sum_of_marks) in students:\n",
    "        if (sum_of_marks < average_mark):\n",
    "            below_average.append(name)\n",
    "    \n",
    "    print('Estudiantes con nota por debajo del promedio:')\n",
    "    for student in below_average:\n",
    "        print(student)\n",
    "    \n",
    "    \n",
    "inform_below_average(students,average_mark)"
   ]
  }
 ],
 "metadata": {
  "kernelspec": {
   "display_name": "Python 3 (ipykernel)",
   "language": "python",
   "name": "python3"
  },
  "language_info": {
   "codemirror_mode": {
    "name": "ipython",
    "version": 3
   },
   "file_extension": ".py",
   "mimetype": "text/x-python",
   "name": "python",
   "nbconvert_exporter": "python",
   "pygments_lexer": "ipython3",
   "version": "3.10.0"
  }
 },
 "nbformat": 4,
 "nbformat_minor": 5
}
