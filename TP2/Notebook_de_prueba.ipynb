{
 "cells": [
  {
   "cell_type": "code",
   "execution_count": 16,
   "id": "5201f2d6",
   "metadata": {},
   "outputs": [
    {
     "data": {
      "text/plain": [
       "['d', 'b', 't', 'b']"
      ]
     },
     "execution_count": 16,
     "metadata": {},
     "output_type": "execute_result"
    }
   ],
   "source": [
    "cadena = \"casa\"\n",
    "cadena_encriptada = list(map(lambda x: chr(ord(x)+1), cadena))\n",
    "cadena_encriptada"
   ]
  },
  {
   "cell_type": "markdown",
   "id": "b321943a",
   "metadata": {},
   "source": [
    "Si no hacia la conversion exlicita a lista, cadena_encriptada era de tipo iterador"
   ]
  },
  {
   "cell_type": "code",
   "execution_count": 20,
   "id": "88e00a00",
   "metadata": {},
   "outputs": [
    {
     "name": "stdout",
     "output_type": "stream",
     "text": [
      "dbtb\n"
     ]
    },
    {
     "data": {
      "text/plain": [
       "str"
      ]
     },
     "execution_count": 20,
     "metadata": {},
     "output_type": "execute_result"
    }
   ],
   "source": [
    "cadena_encriptada = ''.join(cadena_encriptada)\n",
    "print(cadena_encriptada)\n",
    "type(cadena_encriptada)"
   ]
  },
  {
   "cell_type": "markdown",
   "id": "54271c8a",
   "metadata": {},
   "source": [
    ".join la convirtió a string "
   ]
  },
  {
   "cell_type": "code",
   "execution_count": 24,
   "id": "07de24c0",
   "metadata": {},
   "outputs": [
    {
     "data": {
      "text/plain": [
       "'aei'"
      ]
     },
     "execution_count": 24,
     "metadata": {},
     "output_type": "execute_result"
    }
   ],
   "source": [
    "from functools import reduce\n",
    "cadena = ['a','e','i']\n",
    "vocales = reduce((lambda x,y: x + y), cadena)\n",
    "vocales"
   ]
  },
  {
   "cell_type": "code",
   "execution_count": 25,
   "id": "ad4ebc88",
   "metadata": {
    "scrolled": true
   },
   "outputs": [
    {
     "name": "stdout",
     "output_type": "stream",
     "text": [
      "5 + 5 = 10\n",
      "0 + 1 = 1\n",
      "1 + 2 = 3\n",
      "3 + 3 = 6\n",
      "6 + 4 = 10\n"
     ]
    },
    {
     "data": {
      "text/plain": [
       "10"
      ]
     },
     "execution_count": 25,
     "metadata": {},
     "output_type": "execute_result"
    }
   ],
   "source": [
    "def my_add(a,b):\n",
    "    result = a + b\n",
    "    print(f\"{a} + {b} = {result}\")\n",
    "    return result\n",
    "\n",
    "my_add(5,5)\n",
    "\n",
    "numbers = [0,1,2,3,4]\n",
    "reduce(my_add,numbers)"
   ]
  },
  {
   "cell_type": "code",
   "execution_count": 31,
   "id": "000b03fa",
   "metadata": {},
   "outputs": [
    {
     "name": "stdout",
     "output_type": "stream",
     "text": [
      "['o', 'a', 'a', 'a', 'a', 'a']\n"
     ]
    }
   ],
   "source": [
    "def vocales (cadena):\n",
    "    print(list(filter(lambda l: l.lower() in \"aeiou\",cadena)))\n",
    "\n",
    "\n",
    "import utiles\n",
    "utiles.vocales(\"Holaaaaa!!!\")"
   ]
  },
  {
   "cell_type": "markdown",
   "id": "4f44268c",
   "metadata": {},
   "source": [
    "new_list = [expression for member in iterable] Esto es list comprehension"
   ]
  },
  {
   "cell_type": "code",
   "execution_count": 36,
   "id": "7cdab983",
   "metadata": {},
   "outputs": [
    {
     "name": "stdout",
     "output_type": "stream",
     "text": [
      "Night time, to some, the brief interlude \n",
      "\n",
      "To others, the fear of solitude\n"
     ]
    }
   ],
   "source": [
    "def leo_lineas():\n",
    "    f = open(\"archivo.txt\",'r')\n",
    "    print(f.readlines())\n",
    "    print(type(f.readlines()))\n",
    "    f.close()\n",
    "    \n",
    "def leo_chars():\n",
    "    f = open('archivo.txt','r')\n",
    "    for x in f.read():\n",
    "        print(x)\n",
    "    f.close()\n",
    "    \n",
    "def otra_forma():\n",
    "    f = open('archivo.txt','r')\n",
    "    for linea in f:\n",
    "        print(linea)\n",
    "    f.close()\n",
    "\n",
    "f = open('archivo.txt','w')\n",
    "cadena1 = \"Night time, to some, the brief interlude \\n\"\n",
    "cadena2 = \"To others, the fear of solitude\"\n",
    "f.write(cadena1)\n",
    "f.write(cadena2)\n",
    "f.close()\n",
    "\n",
    "if __name__=='__main__':\n",
    "    otra_forma()"
   ]
  },
  {
   "cell_type": "code",
   "execution_count": 2,
   "id": "2890d943",
   "metadata": {},
   "outputs": [
    {
     "name": "stdout",
     "output_type": "stream",
     "text": [
      "Estudiantes con nota por debajo del promedio:\n",
      " CESAR\n",
      " Diego\n",
      " Dolores\n",
      " DYLAN\n",
      " ELIANA\n",
      " Emanuel\n",
      " GONZALO\n",
      " Gregorio\n",
      " Ignacio\n",
      " Jonathan\n",
      " Jorge\n",
      " JUAN\n",
      " Julian\n",
      " Leonel\n",
      " Nicolás\n",
      " NICOLÁS\n",
      " Priscila\n",
      " Yanina\n"
     ]
    }
   ],
   "source": [
    "with open('nombres_1.txt','r',encoding = 'utf-8') as file_names:\n",
    "    names = file_names.read()\n",
    "with open('eval1.txt','r',encoding = 'utf-8') as file_1st_marks:\n",
    "    marks1 = file_1st_marks.read()\n",
    "with open('eval2.txt','r',encoding = 'utf-8') as file_2nd_marks:\n",
    "    marks2 = file_2nd_marks.read()\n",
    "\n",
    "def make_list(my_string):\n",
    "    \"\"\" Transforma el string que recibe en una lista, sin saltos de linea ni comillas \"\"\"\n",
    "    return my_string.replace('\\n','').replace(\"\\'\",'').split(',')\n",
    "    \n",
    "\n",
    "\n",
    "def make_list_of_students(names,marks1,marks2):\n",
    "    \"\"\"Genera una lista de tuplas. Cada tupla contiene (nombre del alumno, suma de notas)\n",
    "    \"\"\"\n",
    "    students=[]\n",
    "    index = 0\n",
    "    for name in names:\n",
    "        sum_of_grades = int(marks1[index]) + int(marks2[index])\n",
    "        student = (name,sum_of_grades)\n",
    "        students.append(student)\n",
    "        index +=1\n",
    "        \n",
    "    \n",
    "    return students\n",
    "\n",
    "\n",
    "def compute_average(students):\n",
    "    \"\"\" Calcula la nota total promedio de los estudiantes recibidos por parametro \"\"\"\n",
    "    \n",
    "    total_sum = 0\n",
    "    for student in students:\n",
    "        total_sum += int(student[1])\n",
    "    \n",
    "    average = (total_sum / len(students))\n",
    "    \n",
    "    return average\n",
    "    \n",
    "def inform_below_average(students,average_mark):\n",
    "    \"\"\" Recorre la lista de (estudiantes,notas) y se va guardando, localmente, una lista con nombres \n",
    "    de los estudiantes cuyas notas estan por debajo del promedio ingresado por parametro.\n",
    "    Finalmente imprime en pantalla tal lista de nombres\n",
    "    \"\"\"\n",
    "    \n",
    "    below_average=[]\n",
    "    for (name,mark) in students:\n",
    "        if (mark < average_mark):\n",
    "            below_average.append(name)\n",
    "    \n",
    "    print('Estudiantes con nota por debajo del promedio:')\n",
    "    for student in below_average:\n",
    "        print(student)\n",
    "    \n",
    "    \n",
    "    \n",
    "names = make_list(names)\n",
    "marks1 = make_list(marks1)\n",
    "marks2 = make_list(marks2)\n",
    "\n",
    "\n",
    "students = make_list_of_students(names,marks1,marks2)\n",
    "average_mark = compute_average(students)\n",
    "inform_below_average(students,average_mark)\n"
   ]
  }
 ],
 "metadata": {
  "kernelspec": {
   "display_name": "Python 3 (ipykernel)",
   "language": "python",
   "name": "python3"
  },
  "language_info": {
   "codemirror_mode": {
    "name": "ipython",
    "version": 3
   },
   "file_extension": ".py",
   "mimetype": "text/x-python",
   "name": "python",
   "nbconvert_exporter": "python",
   "pygments_lexer": "ipython3",
   "version": "3.10.0"
  }
 },
 "nbformat": 4,
 "nbformat_minor": 5
}
