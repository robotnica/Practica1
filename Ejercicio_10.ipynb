{
 "cells": [
  {
   "cell_type": "markdown",
   "id": "2db25229",
   "metadata": {},
   "source": [
    "# Ejercicio 10\n",
    "\n",
    "10. Trabajando con los contenidos de los archivos que pueden acceder en el curso:\n",
    "• nombres\n",
    "• eval1\n",
    "• eval2\n",
    "Manipule estos archivos para realizar lo siguiente:\n",
    "• Generar una estructura con los nombres de los estudiantes y la suma de ambas notas.\n",
    "• Calcular el promedio de las notas totales e informar que alumnos obtuvieron menos que el\n",
    "promedio.\n"
   ]
  },
  {
   "cell_type": "markdown",
   "id": "2dc4068c",
   "metadata": {},
   "source": [
    "Primero abro los archivos de texto en modo lectura y guardo sus contenidos en sendas variables de tipo string"
   ]
  },
  {
   "cell_type": "code",
   "execution_count": 28,
   "id": "ae5934e9",
   "metadata": {},
   "outputs": [],
   "source": [
    "with open('nombres_1.txt','r',encoding = 'utf-8') as file_names:\n",
    "    names = file_names.read()\n",
    "with open('eval1.txt','r',encoding = 'utf-8') as file_1st_marks:\n",
    "    marks1 = file_1st_marks.read()\n",
    "with open('eval2.txt','r',encoding = 'utf-8') as file_2nd_marks:\n",
    "    marks2 = file_2nd_marks.read()"
   ]
  },
  {
   "cell_type": "markdown",
   "id": "af0dd5be",
   "metadata": {},
   "source": [
    "Genero las listas con los nombres y las notas. Para ello implemento una funcion 'make_list'"
   ]
  },
  {
   "cell_type": "code",
   "execution_count": null,
   "id": "57bfd7a6",
   "metadata": {},
   "outputs": [],
   "source": [
    "def make_list(my_string):\n",
    "    \"\"\" Transforma el string que recibe en una lista, sin saltos de linea ni comillas \"\"\"\n",
    "    return my_string.replace('\\n','').replace(\"\\'\",'').split(',')\n",
    "\n",
    "names = make_list(names)\n",
    "marks1 = make_list(marks1)\n",
    "marks2 = make_list(marks2)"
   ]
  },
  {
   "cell_type": "markdown",
   "id": "28d14600",
   "metadata": {},
   "source": [
    "Para almacenar la informacion de los estudiantes y la suma de sus notas, utilizo una lista de tuplas, que estara almacenada en la variable **students**.\n",
    "Obteniendo una estructura de la forma: [(nombre_alumno,suma_de_notas), (nombre_otro_alumno,suma_de_notas)....]"
   ]
  },
  {
   "cell_type": "code",
   "execution_count": null,
   "id": "041dad97",
   "metadata": {},
   "outputs": [],
   "source": [
    "def make_list_of_students(names,marks1,marks2):\n",
    "    \"\"\"Genera una lista de tuplas. Cada tupla contiene (nombre del alumno, suma de notas)\n",
    "    \"\"\"\n",
    "    students=[]\n",
    "    index = 0\n",
    "    for name in names:\n",
    "        sum_of_grades = int(marks1[index]) + int(marks2[index])\n",
    "        student = (name,sum_of_grades)\n",
    "        students.append(student)\n",
    "        index +=1\n",
    "        \n",
    "    \n",
    "    return students\n",
    "\n",
    "\n",
    "students = make_list_of_students(names,marks1,marks2)"
   ]
  },
  {
   "cell_type": "markdown",
   "id": "3eec78f4",
   "metadata": {},
   "source": [
    "Utilizando la funcion **compute_average()** calculo el promedio de las sumas de las notas de los estudiantes"
   ]
  },
  {
   "cell_type": "code",
   "execution_count": null,
   "id": "30057ccb",
   "metadata": {},
   "outputs": [],
   "source": [
    "def compute_average(students):\n",
    "    \"\"\" Calcula la nota total promedio de los estudiantes recibidos por parametro \"\"\"\n",
    "    \n",
    "    total_sum = 0\n",
    "    total_of_students = 0\n",
    "    for student in students:\n",
    "        total_sum += int(student[1])\n",
    "        total_of_students +=1\n",
    "    \n",
    "    average = total_sum / total_of_students\n",
    "    \n",
    "    return average\n",
    "\n",
    "average_mark = compute_average(students)"
   ]
  },
  {
   "cell_type": "markdown",
   "id": "5b8c7c10",
   "metadata": {},
   "source": [
    "Utilizando la funcion **below_average()** informo los estudiantes cuya nota total, sea menor al promedio de las notas totales"
   ]
  },
  {
   "cell_type": "code",
   "execution_count": null,
   "id": "b4ede2b5",
   "metadata": {},
   "outputs": [],
   "source": [
    "def inform_below_average(students,average_mark):\n",
    "    \"\"\" Recorre la lista de (estudiantes,notas) y se va guardando, localmente, una lista con nombres \n",
    "    de los estudiantes cuyas notas estan por debajo del promedio ingresado por parametro.\n",
    "    Finalmente imprime en pantalla tal lista de nombres\n",
    "    \"\"\"\n",
    "    \n",
    "    below_average=[]\n",
    "    for (name,sum_of_marks) in students:\n",
    "        if (sum_of_marks < average_mark):\n",
    "            below_average.append(name)\n",
    "    \n",
    "    print('Estudiantes con nota por debajo del promedio:')\n",
    "    for student in below_average:\n",
    "        print(student)\n",
    "    \n",
    "    \n",
    "inform_below_average(students,average_mark)"
   ]
  }
 ],
 "metadata": {
  "kernelspec": {
   "display_name": "Python 3 (ipykernel)",
   "language": "python",
   "name": "python3"
  },
  "language_info": {
   "codemirror_mode": {
    "name": "ipython",
    "version": 3
   },
   "file_extension": ".py",
   "mimetype": "text/x-python",
   "name": "python",
   "nbconvert_exporter": "python",
   "pygments_lexer": "ipython3",
   "version": "3.10.0"
  }
 },
 "nbformat": 4,
 "nbformat_minor": 5
}
